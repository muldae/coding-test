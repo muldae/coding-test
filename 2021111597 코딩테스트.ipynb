{
 "cells": [
  {
   "cell_type": "markdown",
   "metadata": {},
   "source": [
    "## 주어진 숫자 중 3개의 수를 더했을 때 소수가 되는 경우의 개수를 구하려고 합니다. 숫자들이 들어있는 배열 nums가 매개변수로 주어질 때, nums에 있는 숫자들 중 서로 다른 3개를 골라 더했을 때 소수가 되는 경우의 개수를 return 하도록 solution 함수를 완성해주세요.\n",
    "\n",
    "* nums에 들어있는 숫자의 개수는 3개 이상 50개 이하입니다.\n",
    "* nums의 각 원소는 1 이상 1,000 이하의 자연수이며, 중복된 숫자가 들어있지 않습니다."
   ]
  },
  {
   "cell_type": "markdown",
   "metadata": {},
   "source": [
    "먼저 순열함수를 import 해줍니다."
   ]
  },
  {
   "cell_type": "code",
   "execution_count": null,
   "metadata": {},
   "outputs": [],
   "source": [
    "from itertools import combinations"
   ]
  },
  {
   "cell_type": "markdown",
   "metadata": {},
   "source": [
    "#### 첫 번째 함수는 매개변수로 받는 숫자가 소수인지 아닌지 판별하는 함수입니다.\n",
    "* 어떤 매개변수 number을 받았을 때 그 숫자가 1보다 작다면 무조건 소수가 아니므로 False를 반환합니다. \n",
    "* 만약 숫자가 2보다 크다면 매개변수에 2부터 그 숫자의 절반에 해당하는 숫자까지를 나누어서 나머지가 0이 나오는지 확인하고 0이 나온다면 False를 반환합니다. \n",
    "\n",
    "이 두 가지를 통과하면 매개변수는 소수이므로 True를 반환하게 됩니다."
   ]
  },
  {
   "cell_type": "code",
   "execution_count": null,
   "metadata": {},
   "outputs": [],
   "source": [
    "def is_prime(number):\n",
    "    if number <= 1:\n",
    "        return False\n",
    "    for i in range(2, number // 2 + 1): \n",
    "        if number % i == 0:\n",
    "            return False\n",
    "    return True"
   ]
  },
  {
   "cell_type": "markdown",
   "metadata": {},
   "source": [
    "#### 두 번째 함수는 서로 다른 숫자가 들어있는 배열 nums를 매개변수로 받았을 때, 소수를 되는 경우를 반환하는 함수입니다.\n",
    "먼저 이 함수가 return할 값인 소수가 되는 경우의 개수를 정의해줍니다."
   ]
  },
  {
   "cell_type": "code",
   "execution_count": null,
   "metadata": {},
   "outputs": [],
   "source": [
    "def combination(nums):\n",
    "    total = 0\n",
    "    for combi in combinations(nums, 3):\n",
    "        if is_prime(sum(combi)) == True:\n",
    "            print(combi,\"를 이용해서\",sum(combi),\"을 만들 수 있습니다.\")\n",
    "            total += 1\n",
    "    return total\n",
    "    \n",
    "list1 = [1,2,7,6,4]\n",
    "combination(list1)"
   ]
  },
  {
   "cell_type": "markdown",
   "metadata": {},
   "source": [
    "for문을 이용해 nums에 있는 숫자들 중 서로 다른 3개를 고른 리스트를 전부 뽑아낸 다음, 첫 번째 함수를 이용하여 뽑아낸 리스트의 합이 소수인지 아닌지를 판별합니다"
   ]
  },
  {
   "cell_type": "code",
   "execution_count": null,
   "metadata": {},
   "outputs": [],
   "source": [
    "for combi in combinations(nums, 3):\n",
    "        if is_prime(sum(combi)) == True:\n",
    "            print(combi,\"를 이용해서\",sum(combi),\"을 만들 수 있습니다.\")\n",
    "            total += 1\n",
    "    return total\n",
    "    \n",
    "list1 = [1,2,7,6,4]\n",
    "combination(list1)"
   ]
  },
  {
   "cell_type": "markdown",
   "metadata": {},
   "source": [
    "만약 소수라면, 그 리스트를 이용해서 해당하는 소수를 만들 수 있다고 print하고, 소수가 되는 갯수를 표현하는 total값에 1을 더합니다."
   ]
  },
  {
   "cell_type": "code",
   "execution_count": null,
   "metadata": {},
   "outputs": [],
   "source": [
    "print(combi,\"를 이용해서\",sum(combi),\"을 만들 수 있습니다.\")\n",
    "            total += 1\n",
    "    return total\n",
    "    \n",
    "list1 = [1,2,7,6,4]\n",
    "combination(list1)"
   ]
  },
  {
   "cell_type": "markdown",
   "metadata": {},
   "source": [
    "이 과정을 뽑아낸 모든 리스트가 거치면 total값은 nums에 있는 숫자들 중 서로 다른 3개를 골라 더했을 때 소수가 되는 경우의 개수가 되고, 이를 return해주면 끝이 나게 됩니다."
   ]
  },
  {
   "cell_type": "code",
   "execution_count": null,
   "metadata": {},
   "outputs": [],
   "source": [
    "return total"
   ]
  },
  {
   "cell_type": "markdown",
   "metadata": {},
   "source": [
    "아래는 출력 결과입니다."
   ]
  },
  {
   "cell_type": "code",
   "execution_count": 10,
   "metadata": {},
   "outputs": [
    {
     "name": "stdout",
     "output_type": "stream",
     "text": [
      "(1, 2, 4) 를 이용해서 7 을 만들 수 있습니다.\n",
      "(1, 6, 4) 를 이용해서 11 을 만들 수 있습니다.\n",
      "(2, 7, 4) 를 이용해서 13 을 만들 수 있습니다.\n",
      "(7, 6, 4) 를 이용해서 17 을 만들 수 있습니다.\n"
     ]
    },
    {
     "data": {
      "text/plain": [
       "4"
      ]
     },
     "execution_count": 10,
     "metadata": {},
     "output_type": "execute_result"
    }
   ],
   "source": [
    "list1 = [1,2,7,6,4]\n",
    "combination(list1)"
   ]
  }
 ],
 "metadata": {
  "kernelspec": {
   "display_name": "Python 3",
   "language": "python",
   "name": "python3"
  },
  "language_info": {
   "codemirror_mode": {
    "name": "ipython",
    "version": 3
   },
   "file_extension": ".py",
   "mimetype": "text/x-python",
   "name": "python",
   "nbconvert_exporter": "python",
   "pygments_lexer": "ipython3",
   "version": "3.7.6"
  }
 },
 "nbformat": 4,
 "nbformat_minor": 4
}
